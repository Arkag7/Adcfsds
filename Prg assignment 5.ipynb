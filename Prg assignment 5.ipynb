{
 "cells": [
  {
   "cell_type": "raw",
   "metadata": {},
   "source": [
    "1.\tWrite a Python Program to Find LCM?"
   ]
  },
  {
   "cell_type": "code",
   "execution_count": 2,
   "metadata": {},
   "outputs": [
    {
     "name": "stdout",
     "output_type": "stream",
     "text": [
      "12\n",
      "14\n",
      "the lcm of num1 & num2: 84\n"
     ]
    }
   ],
   "source": [
    "def lcm(x,y):\n",
    "    if x>y:\n",
    "        greater= x\n",
    "    else:\n",
    "        greater=y\n",
    "    while(True):\n",
    "        if(greater%x==0) and (greater%y==0):\n",
    "            lcm=greater\n",
    "            break\n",
    "        greater+=1\n",
    "    return lcm\n",
    "num1=int(input())\n",
    "num2=int(input())\n",
    "\n",
    "print(\"the lcm of num1 & num2:\",lcm(num1,num2))\n"
   ]
  },
  {
   "cell_type": "raw",
   "metadata": {},
   "source": [
    "2.\tWrite a Python Program to Find HCF?"
   ]
  },
  {
   "cell_type": "code",
   "execution_count": 1,
   "metadata": {},
   "outputs": [
    {
     "name": "stdout",
     "output_type": "stream",
     "text": [
      "Enter first Num8\n",
      "Enter second num12\n",
      "The H.C.F. of 8 and 12 is 4\n"
     ]
    }
   ],
   "source": [
    "def hcf(x,y):\n",
    "    if x>y:\n",
    "        smaller=y\n",
    "    else:\n",
    "        smaller=x\n",
    "        \n",
    "    for i in range(1,smaller+1):\n",
    "        if ((x%i==0) and (y%i==0)):\n",
    "            hcf=i\n",
    "    return hcf\n",
    "        \n",
    "num1=int(input(\"Enter first Num\"))\n",
    "num2=int(input(\"Enter second num\"))\n",
    "    \n",
    "print(\"The H.C.F. of\", num1,\"and\", num2,\"is\",hcf(num1, num2)) "
   ]
  },
  {
   "cell_type": "raw",
   "metadata": {},
   "source": [
    "3.\tWrite a Python Program to Convert Decimal to Binary, Octal and Hexadecimal?"
   ]
  },
  {
   "cell_type": "code",
   "execution_count": 5,
   "metadata": {},
   "outputs": [
    {
     "name": "stdout",
     "output_type": "stream",
     "text": [
      "1245\n",
      "The binary no is: 0b10011011101\n",
      "The Octal no is: 0o2335\n",
      "The Hexadecimal no is: 0x4dd\n"
     ]
    }
   ],
   "source": [
    "dec=int(input())\n",
    "print(\"The binary no is:\",bin(dec))\n",
    "print(\"The Octal no is:\",oct(dec))\n",
    "print(\"The Hexadecimal no is:\",hex(dec))"
   ]
  },
  {
   "cell_type": "raw",
   "metadata": {},
   "source": [
    "4.\tWrite a Python Program To Find ASCII value of a character?"
   ]
  },
  {
   "cell_type": "code",
   "execution_count": 12,
   "metadata": {},
   "outputs": [
    {
     "name": "stdout",
     "output_type": "stream",
     "text": [
      "The ASCII value of' p 'is 112\n"
     ]
    }
   ],
   "source": [
    "c='p'\n",
    "print(\"The ASCII value of' \" +c+ \" 'is\",ord(c))"
   ]
  },
  {
   "cell_type": "code",
   "execution_count": 2,
   "metadata": {},
   "outputs": [
    {
     "name": "stdout",
     "output_type": "stream",
     "text": [
      "The ASCII value of 'a' is 97\n"
     ]
    }
   ],
   "source": [
    "c = 'a'\n",
    "print(\"The ASCII value of '\" + c + \"' is\", ord(c))"
   ]
  },
  {
   "cell_type": "raw",
   "metadata": {},
   "source": [
    "5.\tWrite a Python Program to Make a Simple Calculator with 4 basic mathematical operations?"
   ]
  },
  {
   "cell_type": "code",
   "execution_count": 2,
   "metadata": {},
   "outputs": [
    {
     "name": "stdout",
     "output_type": "stream",
     "text": [
      "Please select operation\n",
      "1.Add\n",
      "2.subtract\n",
      "3.Multiply\n",
      "4.Division\n",
      "\n",
      "select opeartion from 1,2,3,41\n",
      "Enter first no100\n",
      "Enter second no4567\n",
      "The output of addition is 4667\n"
     ]
    }
   ],
   "source": [
    "def add(a,b):\n",
    "    return a+b\n",
    "def subtract(a,b):\n",
    "    return a-b\n",
    "def multiply (a,b):\n",
    "    return a*b\n",
    "def division(a,b):\n",
    "    return (a/b)\n",
    "\n",
    "print(\"Please select operation\\n\"\\\n",
    "     \"1.Add\\n\"\\\n",
    "     \"2.subtract\\n\"\\\n",
    "     \"3.Multiply\\n\"\\\n",
    "     \"4.Division\\n\")\n",
    "\n",
    "select=int(input(\"select opeartion from 1,2,3,4\"))\n",
    "a=int(input(\"Enter first no\"))\n",
    "b=int(input(\"Enter second no\"))\n",
    "\n",
    "if select==1:\n",
    "    print(\"The output of addition is\",(a+b))\n",
    "elif select==2:\n",
    "    print(\"The output of Subtraction is:\",(a-b))\n",
    "elif select==3:\n",
    "    print(\"The output of multiplication is\",(a*b))\n",
    "elif select==4:\n",
    "    print(\"The output of division is\",(a/b))\n",
    "\n",
    "else:\n",
    "    print(\"Invalid input\")"
   ]
  },
  {
   "cell_type": "code",
   "execution_count": null,
   "metadata": {},
   "outputs": [],
   "source": []
  },
  {
   "cell_type": "code",
   "execution_count": null,
   "metadata": {},
   "outputs": [],
   "source": []
  }
 ],
 "metadata": {
  "kernelspec": {
   "display_name": "Python 3",
   "language": "python",
   "name": "python3"
  },
  "language_info": {
   "codemirror_mode": {
    "name": "ipython",
    "version": 3
   },
   "file_extension": ".py",
   "mimetype": "text/x-python",
   "name": "python",
   "nbconvert_exporter": "python",
   "pygments_lexer": "ipython3",
   "version": "3.7.4"
  }
 },
 "nbformat": 4,
 "nbformat_minor": 2
}
